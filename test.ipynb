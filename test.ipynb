{
 "cells": [
  {
   "cell_type": "code",
   "execution_count": null,
   "id": "fc4553ae",
   "metadata": {},
   "outputs": [],
   "source": [
    "def binary_search(array, target, start, end):\n",
    "    if start > end:\n",
    "        return None\n",
    "    mid = (start + end) // 2\n",
    "    if array[mid] == target:\n",
    "        return mid\n",
    "    elif array[mid] > target:\n",
    "        return binary_search(array, target, start, mid - 1)\n",
    "    else:\n",
    "        return binary_search(array, target, mid + 1, end)"
   ]
  },
  {
   "cell_type": "code",
   "execution_count": 2,
   "id": "48c81be0",
   "metadata": {},
   "outputs": [
    {
     "name": "stdout",
     "output_type": "stream",
     "text": [
      "-4\n"
     ]
    }
   ],
   "source": [
    "a = int(input())"
   ]
  },
  {
   "cell_type": "code",
   "execution_count": 3,
   "id": "e33c613c",
   "metadata": {},
   "outputs": [
    {
     "name": "stdout",
     "output_type": "stream",
     "text": [
      "-4\n"
     ]
    }
   ],
   "source": [
    "print(a)"
   ]
  },
  {
   "cell_type": "code",
   "execution_count": 4,
   "id": "beb3a80e",
   "metadata": {},
   "outputs": [
    {
     "name": "stdout",
     "output_type": "stream",
     "text": [
      "5 3\n",
      "1\n",
      "2\n",
      "8\n",
      "4\n",
      "9\n"
     ]
    }
   ],
   "source": [
    "n, c = map(int, input().split())\n",
    "array = []\n",
    "for i in range(n):\n",
    "    array.append(int(input()))"
   ]
  },
  {
   "cell_type": "code",
   "execution_count": 5,
   "id": "85da9142",
   "metadata": {},
   "outputs": [],
   "source": [
    "array.sort()"
   ]
  },
  {
   "cell_type": "code",
   "execution_count": 15,
   "id": "264832df",
   "metadata": {},
   "outputs": [],
   "source": [
    "def binary_search(array, count, start, end):\n",
    "    result = []\n",
    "    while start <= end:\n",
    "        mid = (start + end) // 2\n",
    "        if count >= 1:\n",
    "            result.append(array[mid])\n",
    "            count -= 1\n",
    "            \n",
    "            if array[end] - array[mid] > array[mid] - array[start]:\n",
    "                start = mid + 1\n",
    "            else:\n",
    "                end = mid - 1\n",
    "        else:\n",
    "            return result\n",
    "    return result"
   ]
  },
  {
   "cell_type": "code",
   "execution_count": 16,
   "id": "73b3917b",
   "metadata": {},
   "outputs": [
    {
     "name": "stdout",
     "output_type": "stream",
     "text": [
      "[4] result_lst\n",
      "[4, 1] result_lst\n",
      "[4, 1, 9] result_lst\n",
      "[1, 4, 9] result_lst\n",
      "0\n"
     ]
    }
   ],
   "source": [
    "if c == 2:\n",
    "    print(array[-1] - array[0])\n",
    "else:\n",
    "    result_lst = binary_search(array, c-2, 0, n - 1)\n",
    "    print(result_lst, \"result_lst\")\n",
    "    result_lst.append(array[0])\n",
    "    print(result_lst, \"result_lst\")\n",
    "    result_lst.append(array[-1])\n",
    "    print(result_lst, \"result_lst\")\n",
    "    \n",
    "    result_lst.sort()\n",
    "    print(result_lst, \"result_lst\")\n",
    "\n",
    "    min_value = result_lst[1] - result_lst[0]\n",
    "    for i in range(len(result_lst) - 1):\n",
    "        for j in range(i, len(result_lst) - 1):\n",
    "            if result_lst[j] - result_lst[i] < min_value:\n",
    "                min_value = result_lst[j] - result_lst[i]\n",
    "    \n",
    "    print(min_value)"
   ]
  },
  {
   "cell_type": "code",
   "execution_count": null,
   "id": "b5618fc5",
   "metadata": {},
   "outputs": [],
   "source": []
  }
 ],
 "metadata": {
  "kernelspec": {
   "display_name": "Python 3 (ipykernel)",
   "language": "python",
   "name": "python3"
  },
  "language_info": {
   "codemirror_mode": {
    "name": "ipython",
    "version": 3
   },
   "file_extension": ".py",
   "mimetype": "text/x-python",
   "name": "python",
   "nbconvert_exporter": "python",
   "pygments_lexer": "ipython3",
   "version": "3.9.2"
  }
 },
 "nbformat": 4,
 "nbformat_minor": 5
}
